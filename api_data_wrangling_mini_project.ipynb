{
 "cells": [
  {
   "cell_type": "markdown",
   "metadata": {},
   "source": [
    "This exercise will require you to pull some data from the Quandl API. Quandl is currently the most widely used aggregator of financial market data."
   ]
  },
  {
   "cell_type": "markdown",
   "metadata": {},
   "source": [
    "As a first step, you will need to register a free account on the http://www.quandl.com website."
   ]
  },
  {
   "cell_type": "markdown",
   "metadata": {},
   "source": [
    "After you register, you will be provided with a unique API key, that you should store:"
   ]
  },
  {
   "cell_type": "code",
   "execution_count": 7,
   "metadata": {},
   "outputs": [],
   "source": [
    "# Store the API key as a string - according to PEP8, constants are always named in all upper case\n",
    "API_KEY = '<!-- SNIP -->'"
   ]
  },
  {
   "cell_type": "markdown",
   "metadata": {},
   "source": [
    "Quandl has a large number of data sources, but, unfortunately, most of them require a Premium subscription. Still, there are also a good number of free datasets."
   ]
  },
  {
   "cell_type": "markdown",
   "metadata": {},
   "source": [
    "For this mini project, we will focus on equities data from the Frankfurt Stock Exhange (FSE), which is available for free. We'll try and analyze the stock prices of a company called Carl Zeiss Meditec, which manufactures tools for eye examinations, as well as medical lasers for laser eye surgery: https://www.zeiss.com/meditec/int/home.html. The company is listed under the stock ticker AFX_X."
   ]
  },
  {
   "cell_type": "markdown",
   "metadata": {},
   "source": [
    "You can find the detailed Quandl API instructions here: https://docs.quandl.com/docs/time-series"
   ]
  },
  {
   "cell_type": "markdown",
   "metadata": {},
   "source": [
    "While there is a dedicated Python package for connecting to the Quandl API, we would prefer that you use the *requests* package, which can be easily downloaded using *pip* or *conda*. You can find the documentation for the package here: http://docs.python-requests.org/en/master/ "
   ]
  },
  {
   "cell_type": "markdown",
   "metadata": {},
   "source": [
    "Finally, apart from the *requests* package, you are encouraged to not use any third party Python packages, such as *pandas*, and instead focus on what's available in the Python Standard Library (the *collections* module might come in handy: https://pymotw.com/3/collections/ ).\n",
    "Also, since you won't have access to DataFrames, you are encouraged to us Python's native data structures - preferably dictionaries, though some questions can also be answered using lists.\n",
    "You can read more on these data structures here: https://docs.python.org/3/tutorial/datastructures.html"
   ]
  },
  {
   "cell_type": "markdown",
   "metadata": {},
   "source": [
    "Keep in mind that the JSON responses you will be getting from the API map almost one-to-one to Python's dictionaries. Unfortunately, they can be very nested, so make sure you read up on indexing dictionaries in the documentation provided above."
   ]
  },
  {
   "cell_type": "code",
   "execution_count": 121,
   "metadata": {},
   "outputs": [],
   "source": [
    "# First, import the relevant modules\n",
    "import requests"
   ]
  },
  {
   "cell_type": "code",
   "execution_count": 122,
   "metadata": {},
   "outputs": [],
   "source": [
    "# Now, call the Quandl API and pull out a small sample of the data (only one day) to get a glimpse\n",
    "# into the JSON structure that will be returned\n",
    "\n",
    "# This function takes the start date and end date of the period under analysis and returns the URL for\n",
    "# retrieving the data from quandl.\n",
    "def reqURL(startdate=None, enddate=None):\n",
    "    url = \"https://www.quandl.com/api/v3/datasets/FSE/AFX_X/data.json?api_key=\" + API_KEY\n",
    "    if startdate != None:\n",
    "        url = url + \"&start_date=\" + startdate\n",
    "    if enddate != None:\n",
    "        url = url + \"&end_date=\" + enddate\n",
    "        \n",
    "    return url\n",
    "\n",
    "# Retrieve one day worth of data to get a glimpse into the JSON structure\n",
    "response = requests.get(reqURL(\"2016-01-01\",\"2016-01-02\"))"
   ]
  },
  {
   "cell_type": "code",
   "execution_count": 139,
   "metadata": {},
   "outputs": [
    {
     "data": {
      "text/plain": [
       "{'dataset_data': {'limit': None,\n",
       "  'transform': None,\n",
       "  'column_index': None,\n",
       "  'column_names': ['Date',\n",
       "   'Open',\n",
       "   'High',\n",
       "   'Low',\n",
       "   'Close',\n",
       "   'Change',\n",
       "   'Traded Volume',\n",
       "   'Turnover',\n",
       "   'Last Price of the Day',\n",
       "   'Daily Traded Units',\n",
       "   'Daily Turnover'],\n",
       "  'start_date': '2016-01-01',\n",
       "  'end_date': '2016-01-02',\n",
       "  'frequency': 'daily',\n",
       "  'data': [['2016-01-01',\n",
       "    None,\n",
       "    28.73,\n",
       "    28.275,\n",
       "    28.55,\n",
       "    0.15,\n",
       "    31307.0,\n",
       "    893928.0,\n",
       "    None,\n",
       "    None,\n",
       "    None]],\n",
       "  'collapse': None,\n",
       "  'order': None}}"
      ]
     },
     "execution_count": 139,
     "metadata": {},
     "output_type": "execute_result"
    }
   ],
   "source": [
    "# Inspect the JSON structure of the object you created, and take note of how nested it is,\n",
    "# as well as the overall structure\n",
    "response.json()"
   ]
  },
  {
   "cell_type": "code",
   "execution_count": 140,
   "metadata": {},
   "outputs": [],
   "source": [
    "# Define constants for the positions of the various items in the stock data set\n",
    "DATE=0\n",
    "OPEN=1\n",
    "HIGH=2\n",
    "LOW=3\n",
    "CLOSE=4\n",
    "CHANGE=5\n",
    "TRADED_VOLUME=6\n",
    "TURNOVER=7\n",
    "LASTPRICEDAY=8\n",
    "DAILYTRADEDUNITS=9\n",
    "DAILYTURNOVER=10"
   ]
  },
  {
   "cell_type": "markdown",
   "metadata": {},
   "source": [
    "These are your tasks for this mini project:\n",
    "\n",
    "1. Collect data from the Franfurt Stock Exchange, for the ticker AFX_X, for the whole year 2017 (keep in mind that the date format is YYYY-MM-DD).\n",
    "2. Convert the returned JSON object into a Python dictionary.\n",
    "3. Calculate what the highest and lowest opening prices were for the stock in this period.\n",
    "4. What was the largest change in any one day (based on High and Low price)?\n",
    "5. What was the largest change between any two days (based on Closing Price)?\n",
    "6. What was the average daily trading volume during this year?\n",
    "7. (Optional) What was the median trading volume during this year. (Note: you may need to implement your own function for calculating the median.)"
   ]
  },
  {
   "cell_type": "code",
   "execution_count": null,
   "metadata": {
    "collapsed": true
   },
   "outputs": [],
   "source": [
    "# 1. Collect data from the Franfurt Stock Exchange, for the ticker AFX_X, for the whole year 2017 \n",
    "# (keep in mind that the date format is YYYY-MM-DD)."
   ]
  },
  {
   "cell_type": "code",
   "execution_count": 24,
   "metadata": {},
   "outputs": [],
   "source": [
    "data_2017 = requests.get(reqURL(\"2017-01-01\",\"2017-12-31\"))"
   ]
  },
  {
   "cell_type": "code",
   "execution_count": null,
   "metadata": {},
   "outputs": [],
   "source": [
    "# 2. Convert the returned JSON object into a Python dictionary."
   ]
  },
  {
   "cell_type": "code",
   "execution_count": 28,
   "metadata": {},
   "outputs": [],
   "source": [
    "jsondata = data_2017.json()"
   ]
  },
  {
   "cell_type": "code",
   "execution_count": null,
   "metadata": {},
   "outputs": [],
   "source": [
    "# 3. Calculate what the highest and lowest opening prices were for the stock in this period."
   ]
  },
  {
   "cell_type": "code",
   "execution_count": 132,
   "metadata": {},
   "outputs": [],
   "source": [
    "# Get the list of opening prices\n",
    "opening_prices = [ x[OPEN] for x in jsondata['dataset_data']['data'] if x[OPEN] != None]"
   ]
  },
  {
   "cell_type": "code",
   "execution_count": 127,
   "metadata": {},
   "outputs": [
    {
     "name": "stdout",
     "output_type": "stream",
     "text": [
      "Highest Opening Price: 53.11.\n"
     ]
    }
   ],
   "source": [
    "# Highest opening price\n",
    "print(f\"Highest Opening Price: {max(opening_prices):.2f}.\")"
   ]
  },
  {
   "cell_type": "code",
   "execution_count": 128,
   "metadata": {},
   "outputs": [
    {
     "name": "stdout",
     "output_type": "stream",
     "text": [
      "Lowest Opening Price: 34.00.\n"
     ]
    }
   ],
   "source": [
    "# Lowest opening price\n",
    "print(f\"Lowest Opening Price: {min(opening_prices):.2f}.\")"
   ]
  },
  {
   "cell_type": "code",
   "execution_count": null,
   "metadata": {},
   "outputs": [],
   "source": [
    "# 4. What was the largest change in any one day (based on High and Low price)?"
   ]
  },
  {
   "cell_type": "code",
   "execution_count": 137,
   "metadata": {},
   "outputs": [],
   "source": [
    "# Get a list of tuples of High and Low prices\n",
    "high_low = [ (x[HIGH],x[LOW]) for x in jsondata['dataset_data']['data'] if x[HIGH] != None and x[LOW] != None]"
   ]
  },
  {
   "cell_type": "code",
   "execution_count": 134,
   "metadata": {},
   "outputs": [],
   "source": [
    "# Get a list of the absolute values of the differences between opening and closing prices for each element \n",
    "# in the open_close list\n",
    "high_low_diff = [ abs(x[0] - x[1]) for x in high_low]"
   ]
  },
  {
   "cell_type": "code",
   "execution_count": 117,
   "metadata": {
    "scrolled": true
   },
   "outputs": [
    {
     "name": "stdout",
     "output_type": "stream",
     "text": [
      "The largest change in any one day (based on High and Low price) is 2.81.\n"
     ]
    }
   ],
   "source": [
    "print(f\"The largest change in any one day (based on High and Low price) is {max(high_low_diff):.2f}.\")"
   ]
  },
  {
   "cell_type": "code",
   "execution_count": null,
   "metadata": {},
   "outputs": [],
   "source": [
    "# 5. What was the largest change between any two days (based on Closing Price)?"
   ]
  },
  {
   "cell_type": "code",
   "execution_count": 142,
   "metadata": {},
   "outputs": [],
   "source": [
    "# Get a list of the closing prices\n",
    "closing = [ x[CLOSE] for x in jsondata['dataset_data']['data'] if x[CLOSE] != None]"
   ]
  },
  {
   "cell_type": "code",
   "execution_count": 143,
   "metadata": {},
   "outputs": [],
   "source": [
    "# Get a list of closing-price differences between consecutive days\n",
    "closing_diff = [ abs(closing[i+1] - closing[i]) for i in range(len(closing) - 1)]"
   ]
  },
  {
   "cell_type": "code",
   "execution_count": 144,
   "metadata": {},
   "outputs": [
    {
     "name": "stdout",
     "output_type": "stream",
     "text": [
      "The largest change between any two days (based on Closing Price) is 2.56.\n"
     ]
    }
   ],
   "source": [
    "print(f\"The largest change between any two days (based on Closing Price) is {max(closing_diff):.2f}.\" )"
   ]
  },
  {
   "cell_type": "code",
   "execution_count": null,
   "metadata": {},
   "outputs": [],
   "source": [
    "# 6. What was the average daily trading volume during this year?"
   ]
  },
  {
   "cell_type": "code",
   "execution_count": 124,
   "metadata": {},
   "outputs": [],
   "source": [
    "# Get the list of trading volumes\n",
    "trading_volumes = [ x[TRADED_VOLUME] for x in jsondata['dataset_data']['data'] if x[TRADED_VOLUME] != None]"
   ]
  },
  {
   "cell_type": "code",
   "execution_count": 146,
   "metadata": {},
   "outputs": [
    {
     "name": "stdout",
     "output_type": "stream",
     "text": [
      "The average daily trading volume during this year is 89125.\n"
     ]
    }
   ],
   "source": [
    "# importing mean() \n",
    "from statistics import mean \n",
    "\n",
    "# Added one to float mean trading volume to round up to the next whole number of shares.\n",
    "print(f\"The average daily trading volume during this year is {mean(trading_volumes)+1:.0f}.\") # + str(mean(trading_volumes)))"
   ]
  },
  {
   "cell_type": "code",
   "execution_count": null,
   "metadata": {},
   "outputs": [],
   "source": [
    "# 7. (Optional) What was the median trading volume during this year. (Note: you may need to implement \n",
    "# your own function for calculating the median.)"
   ]
  },
  {
   "cell_type": "code",
   "execution_count": 129,
   "metadata": {},
   "outputs": [
    {
     "name": "stdout",
     "output_type": "stream",
     "text": [
      "The median trading volume during the year is 76286.\n"
     ]
    }
   ],
   "source": [
    "# Implement median(lst)\n",
    "def median(lst):\n",
    "    #Sort the list\n",
    "    lst.sort(reverse=False)\n",
    "    \n",
    "    # Determine the index position of the median value\n",
    "    if ( len(lst) % 2 == 0 ):\n",
    "        half = int(len(lst)/2) - 1           # subtract 1 from median index because 0-based\n",
    "        return (lst[half] + lst[half+1]) / 2\n",
    "    else:\n",
    "        half = int((len(lst) + 1) / 2) - 1   # subtract 1 from median index because 0-based \n",
    "        return lst[half]\n",
    "    \n",
    "    \n",
    "print(f\"The median trading volume during the year is {median(trading_volumes):.0f}.\")"
   ]
  }
 ],
 "metadata": {
  "kernelspec": {
   "display_name": "Python 3",
   "language": "python",
   "name": "python3"
  },
  "language_info": {
   "codemirror_mode": {
    "name": "ipython",
    "version": 3
   },
   "file_extension": ".py",
   "mimetype": "text/x-python",
   "name": "python",
   "nbconvert_exporter": "python",
   "pygments_lexer": "ipython3",
   "version": "3.7.3"
  }
 },
 "nbformat": 4,
 "nbformat_minor": 2
}
